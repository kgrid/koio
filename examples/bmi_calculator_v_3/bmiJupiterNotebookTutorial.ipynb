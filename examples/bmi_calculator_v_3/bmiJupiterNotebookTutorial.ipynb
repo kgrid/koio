{
  "nbformat": 4,
  "nbformat_minor": 0,
  "metadata": {
    "colab": {
      "provenance": []
    },
    "kernelspec": {
      "name": "python3",
      "display_name": "Python 3"
    },
    "language_info": {
      "name": "python"
    }
  },
  "cells": [
    {
      "cell_type": "markdown",
      "source": [
        "# BMI Calculation\n",
        "##What is BMI?\n",
        "Body Mass Index (BMI) is a simple calculation used to assess whether a person has a healthy body weight for their height. It is commonly used in medical and fitness assessments.\n",
        "\n",
        "###BMI Formula:\n",
        "$$\n",
        "BMI = \\frac{\\text{weight (kg)}}{\\text{height (m)}^2}\n",
        "$$\n",
        "\n",
        "Where:\n",
        "\n",
        "- **Weight** is measured in **kilograms (kg)**\n",
        "- **Height** is measured in **meters (m)**\n",
        "\n",
        "## **BMI Categories**\n",
        "\n",
        "| **BMI Value**   | **Category**       |\n",
        "|---------------|-----------------|\n",
        "| **< 18.5**   | Underweight     |\n",
        "| **18.5 - 24.9** | Normal Weight |\n",
        "| **25 - 29.9** | Overweight     |\n",
        "| **≥ 30**      | Obese          |\n",
        "\n",
        "#Example Implementation"
      ],
      "metadata": {
        "id": "cQNRq1LuLV-r"
      }
    },
    {
      "cell_type": "code",
      "execution_count": 1,
      "metadata": {
        "colab": {
          "base_uri": "https://localhost:8080/"
        },
        "id": "RemW1sTbLT-3",
        "outputId": "21c05622-c0e5-4e32-989a-2e0066893fa1"
      },
      "outputs": [
        {
          "output_type": "stream",
          "name": "stdout",
          "text": [
            "Enter your weight in kg: 65\n",
            "Enter your height in meters: 1.82\n",
            "Your BMI is: 19.62\n",
            "Category: Normal weight\n"
          ]
        }
      ],
      "source": [
        "def calculate_bmi():\n",
        "    try:\n",
        "        weight = float(input(\"Enter your weight in kg: \"))\n",
        "        height = float(input(\"Enter your height in meters: \"))\n",
        "\n",
        "        if weight <= 0 or height <= 0:\n",
        "            print(\"Weight and height must be positive numbers.\")\n",
        "            return\n",
        "\n",
        "        bmi = weight / (height ** 2)\n",
        "\n",
        "        # Determine BMI category\n",
        "        if bmi < 18.5:\n",
        "            category = \"Underweight\"\n",
        "        elif bmi < 24.9:\n",
        "            category = \"Normal weight\"\n",
        "        elif bmi < 29.9:\n",
        "            category = \"Overweight\"\n",
        "        else:\n",
        "            category = \"Obese\"\n",
        "\n",
        "        print(f\"Your BMI is: {bmi:.2f}\")\n",
        "        print(f\"Category: {category}\")\n",
        "\n",
        "    except ValueError:\n",
        "        print(\"Please enter valid numeric values.\")\n",
        "\n",
        "# Run the function\n",
        "calculate_bmi()\n"
      ]
    }
  ]
}